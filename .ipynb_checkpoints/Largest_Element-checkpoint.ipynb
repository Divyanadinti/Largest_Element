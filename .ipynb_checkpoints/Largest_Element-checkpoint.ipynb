{
 "cells": [
  {
   "cell_type": "markdown",
   "id": "8ec1cdc1",
   "metadata": {},
   "source": [
    "Write a Python function to find the largest element in a list."
   ]
  },
  {
   "cell_type": "code",
   "execution_count": 1,
   "id": "c3730d35",
   "metadata": {},
   "outputs": [
    {
     "name": "stdout",
     "output_type": "stream",
     "text": [
      "8\n"
     ]
    }
   ],
   "source": [
    "def find_largest(lst):\n",
    "    return max(lst)\n",
    "\n",
    "# Example usage\n",
    "print(find_largest([3, 5, 7, 2, 8]))"
   ]
  },
  {
   "cell_type": "code",
   "execution_count": null,
   "id": "924f3d03",
   "metadata": {},
   "outputs": [],
   "source": []
  }
 ],
 "metadata": {
  "kernelspec": {
   "display_name": "Python 3 (ipykernel)",
   "language": "python",
   "name": "python3"
  },
  "language_info": {
   "codemirror_mode": {
    "name": "ipython",
    "version": 3
   },
   "file_extension": ".py",
   "mimetype": "text/x-python",
   "name": "python",
   "nbconvert_exporter": "python",
   "pygments_lexer": "ipython3",
   "version": "3.10.9"
  }
 },
 "nbformat": 4,
 "nbformat_minor": 5
}
